{
 "cells": [
  {
   "cell_type": "markdown",
   "metadata": {
    "id": "Brtl6ZgJqgu2"
   },
   "source": [
    "# COURSE: Master math by coding in Python\n",
    "# SECTION: Arithmetic\n",
    "# VIDEO: Absolute value\n",
    "\n",
    "\n",
    "### https://www.udemy.com/course/math-with-python/?couponCode=202312\n",
    "#### INSTRUCTOR: Mike X Cohen (http://sincxpress.com)\n",
    "\n",
    "This code roughly matches the code shown in the live recording: variable names, order of lines, and parameter settings may be slightly different."
   ]
  },
  {
   "cell_type": "markdown",
   "metadata": {
    "id": "JZhUk_36xwBy"
   },
   "source": [
    "<a target=\"_blank\" href=\"https://colab.research.google.com/github/mikexcohen/MathWithPython/blob/main/arithmetic/mathWithPython_arithmetic_abs.ipynb\">\n",
    "  <img src=\"https://colab.research.google.com/assets/colab-badge.svg\" alt=\"Open In Colab\"/>\n",
    "</a>"
   ]
  },
  {
   "cell_type": "code",
   "execution_count": null,
   "metadata": {
    "id": "L1AfFfpIxwcm"
   },
   "outputs": [],
   "source": [
    "from IPython.display import display,Math"
   ]
  },
  {
   "cell_type": "code",
   "execution_count": null,
   "metadata": {
    "id": "LMtFQ2yq57lz"
   },
   "outputs": [],
   "source": []
  },
  {
   "cell_type": "code",
   "execution_count": null,
   "metadata": {
    "id": "7NOAmxO6qgu_"
   },
   "outputs": [],
   "source": [
    "a = -4\n",
    "abs(a)"
   ]
  },
  {
   "cell_type": "code",
   "execution_count": null,
   "metadata": {
    "id": "0vlOgwl4qgu_"
   },
   "outputs": [],
   "source": [
    "b = abs(a)\n",
    "a,b"
   ]
  },
  {
   "cell_type": "code",
   "execution_count": 1,
   "metadata": {
    "id": "2xXuVGKoqgu_"
   },
   "outputs": [
    {
     "ename": "NameError",
     "evalue": "name 'Math' is not defined",
     "output_type": "error",
     "traceback": [
      "\u001b[0;31m---------------------------------------------------------------------------\u001b[0m",
      "\u001b[0;31mNameError\u001b[0m                                 Traceback (most recent call last)",
      "Cell \u001b[0;32mIn[1], line 5\u001b[0m\n\u001b[1;32m      2\u001b[0m x \u001b[38;5;241m=\u001b[39m \u001b[38;5;241m-\u001b[39m\u001b[38;5;241m4.3\u001b[39m\n\u001b[1;32m      4\u001b[0m \u001b[38;5;66;03m# If the following line crashes, you need to import the display and Math functions as shown earlier\u001b[39;00m\n\u001b[0;32m----> 5\u001b[0m display(Math(\u001b[38;5;124m'\u001b[39m\u001b[38;5;124m|\u001b[39m\u001b[38;5;132;01m%g\u001b[39;00m\u001b[38;5;124m| = \u001b[39m\u001b[38;5;132;01m%g\u001b[39;00m\u001b[38;5;124m'\u001b[39m \u001b[38;5;241m%\u001b[39m(x,\u001b[38;5;28mabs\u001b[39m(x)) ))\n",
      "\u001b[0;31mNameError\u001b[0m: name 'Math' is not defined"
     ]
    }
   ],
   "source": [
    "from IPython.display import display,Math\n",
    "# printing out with latex\n",
    "x = -4.3\n",
    "\n",
    "# If the following line crashes, you need to import the display and Math functions as shown earlier\n",
    "display(Math('|%g| = %g' %(x,abs(x)) ))"
   ]
  },
  {
   "cell_type": "code",
   "execution_count": null,
   "metadata": {
    "id": "PiU2oDeL5u9O"
   },
   "outputs": [],
   "source": []
  },
  {
   "cell_type": "markdown",
   "metadata": {
    "id": "qOTap7S-qgu_"
   },
   "source": [
    "# Exercise\n",
    "\n"
   ]
  },
  {
   "cell_type": "code",
   "execution_count": null,
   "metadata": {
    "id": "tnKlbqodqgu_"
   },
   "outputs": [],
   "source": [
    "# report the absolute value of a set of numbers only if they are less than -5 or greater than +2\n",
    "numbers = [-4,6,-1,43,-18,2,0]\n",
    "\n",
    "# for-loop\n",
    "for i in numbers:\n",
    "  if i<-5 or i>2:\n",
    "    print( 'Absolute value of %g is %g.' %(i,abs(i)) )\n",
    "  else:\n",
    "    print( str(i) + ' was not tested.' )"
   ]
  },
  {
   "cell_type": "code",
   "execution_count": null,
   "metadata": {
    "id": "SoO689fhqgvB"
   },
   "outputs": [],
   "source": []
  }
 ],
 "metadata": {
  "colab": {
   "provenance": []
  },
  "kernelspec": {
   "display_name": "base",
   "language": "python",
   "name": "python3"
  },
  "language_info": {
   "codemirror_mode": {
    "name": "ipython",
    "version": 3
   },
   "file_extension": ".py",
   "mimetype": "text/x-python",
   "name": "python",
   "nbconvert_exporter": "python",
   "pygments_lexer": "ipython3",
   "version": "3.11.7"
  }
 },
 "nbformat": 4,
 "nbformat_minor": 0
}
